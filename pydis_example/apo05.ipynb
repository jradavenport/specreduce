{
 "cells": [
  {
   "cell_type": "markdown",
   "metadata": {},
   "source": [
    "# Specreduce Workflow Exploration\n",
    "Based heavily (initially) on the `pydis` machinery built by @jradavenport in 2015. All `pydis` pieces (or others as we swap-out, build-up, etc) will be moved flatly into this directory instead of importing for now.\n",
    "\n",
    "Goal is to complete basic full reduction, illustrating a typical workflow, and then facilitate discussion about API and design choices for `specreduce` and it's interface with `ccdproc` and `specutils` (and others).\n",
    "\n",
    "Also, look for opportunities to generalize what *observatories* or specific instruments could provide (e.g. trace templates as astropy models, reference cals as frist-guesses or fallbacks) to make reduction guides or even quick-look autoreductions.\n",
    "\n",
    "**Put LOTS of comments and markdown discussion in!**"
   ]
  },
  {
   "cell_type": "code",
   "execution_count": null,
   "metadata": {},
   "outputs": [],
   "source": [
    "%matplotlib notebook\n",
    "import numpy as np\n",
    "import pandas as pd\n",
    "import matplotlib.pyplot as plt\n"
   ]
  },
  {
   "cell_type": "code",
   "execution_count": null,
   "metadata": {},
   "outputs": [],
   "source": [
    "import matplotlib\n",
    "matplotlib.rcParams.update({'font.size':18})\n",
    "matplotlib.rcParams.update({'font.family':'serif'})"
   ]
  }
 ],
 "metadata": {
  "kernelspec": {
   "display_name": "Python 3",
   "language": "python",
   "name": "python3"
  },
  "language_info": {
   "codemirror_mode": {
    "name": "ipython",
    "version": 3
   },
   "file_extension": ".py",
   "mimetype": "text/x-python",
   "name": "python",
   "nbconvert_exporter": "python",
   "pygments_lexer": "ipython3",
   "version": "3.7.3"
  }
 },
 "nbformat": 4,
 "nbformat_minor": 2
}
